{
 "cells": [
  {
   "cell_type": "markdown",
   "id": "67960272",
   "metadata": {},
   "source": [
    "<a id=\"toc\"></a>\n",
    "# THEORY PANDAS-Series"
   ]
  },
  {
   "cell_type": "markdown",
   "id": "a62cd500",
   "metadata": {},
   "source": [
    "\n",
    "- [pd.Series](#series) \n",
    "\n",
    "\n",
    "\n",
    "\n",
    "- [OPERATIONS](#op):\n",
    "    - +- <,add,multiply, \n",
    "\n",
    "--- \n",
    "(start dataframes from here)\n",
    "\n",
    "---\n",
    "\n",
    "here similar to pandas dataframes:\n",
    "- [INDEXING](#index) :\n",
    "    - at,loc, iat,iloc (=IntegerOnly-loc), boolean indexation, head, tail \n",
    "\n",
    "\n",
    "- [ORDER BY](#order)\n",
    "\n",
    "- [AGGREGATION](#agg)\n",
    "\n",
    "- [USEFULL FUNCTIONALITIES](#func) \n",
    "    - string methods\n",
    "    - datetime\n",
    "- [CONCAT](#concat)\n",
    "\n",
    "- [MAP/APPLY](#map)\n",
    "\n"
   ]
  },
  {
   "cell_type": "markdown",
   "id": "d3e44a11",
   "metadata": {},
   "source": [
    "# imports"
   ]
  },
  {
   "cell_type": "code",
   "execution_count": 1,
   "id": "e4c1cb82",
   "metadata": {},
   "outputs": [],
   "source": [
    "### import tools\n",
    "import numpy as np \n",
    "import pandas as pd"
   ]
  },
  {
   "cell_type": "markdown",
   "id": "0c65df36",
   "metadata": {},
   "source": [
    "quick help\n",
    "```py \n",
    "import pandas as pd\n",
    "pd? \n",
    "```\n",
    "documentation\n",
    "https://pandas.pydata.org/docs/\n",
    "\n",
    "https://pandas.pydata.org/docs/getting_started/comparison/comparison_with_sql.html"
   ]
  },
  {
   "cell_type": "markdown",
   "id": "3d794128",
   "metadata": {},
   "source": [
    "<a id=\"series\"></a>\n",
    "## pd.Series()\n",
    "[toc](#toc)"
   ]
  },
  {
   "cell_type": "code",
   "execution_count": null,
   "id": "3945b9b4",
   "metadata": {},
   "outputs": [],
   "source": []
  },
  {
   "cell_type": "code",
   "execution_count": 2,
   "id": "f640d8d6",
   "metadata": {},
   "outputs": [
    {
     "name": "stdout",
     "output_type": "stream",
     "text": [
      "0    0.25\n",
      "1    0.50\n",
      "2    0.75\n",
      "3    1.00\n",
      "dtype: float64\n"
     ]
    }
   ],
   "source": [
    "### first series: like numpy arrays and a dictionary\n",
    "series = pd.Series(data=[0.25, 0.5, 0.75, 1.0])\n",
    "print(series)"
   ]
  },
  {
   "cell_type": "code",
   "execution_count": 3,
   "id": "f771e228",
   "metadata": {},
   "outputs": [],
   "source": [
    "if False:\n",
    "    '''\n",
    "    import pandas\n",
    "\n",
    "    data = pandas.Series()\n",
    "\n",
    "    from pandas import Series\n",
    "\n",
    "    data = Series()\n",
    "\n",
    "    '''"
   ]
  },
  {
   "cell_type": "code",
   "execution_count": 4,
   "id": "649ec1ff",
   "metadata": {},
   "outputs": [
    {
     "name": "stdout",
     "output_type": "stream",
     "text": [
      "a    0.25\n",
      "b    0.50\n",
      "c    0.75\n",
      "d    1.00\n",
      "dtype: float32\n",
      "--------------------------------------------------\n",
      "a    0.25\n",
      "b    0.50\n",
      "c    0.75\n",
      "d    1.00\n",
      "dtype: float32\n",
      "--------------------------------------------------\n",
      "c    0\n",
      "d    1\n",
      "e    2\n",
      "dtype: int64\n"
     ]
    }
   ],
   "source": [
    "\n",
    "### other ways to define a series\n",
    "\n",
    "series = pd.Series(data=[0.25, 0.5, 0.75, 1.0], index=['a', 'b', 'c', 'd'], dtype=np.float32)\n",
    "print(series)\n",
    "print('-'*50)\n",
    "series = pd.Series(data={'a':0.25, 'b': 0.5, 'c':0.75, 'd':1.0}, dtype = np.float32)\n",
    "print(series)\n",
    "print('-'*50)\n",
    "series2 = pd.Series(data=np.arange(3), index = list('cde'))\n",
    "print(series2)"
   ]
  },
  {
   "cell_type": "markdown",
   "id": "8ef50fbc",
   "metadata": {},
   "source": [
    "## attributes"
   ]
  },
  {
   "cell_type": "code",
   "execution_count": 5,
   "id": "4717e45e",
   "metadata": {},
   "outputs": [
    {
     "data": {
      "text/plain": [
       "(4,)"
      ]
     },
     "execution_count": 5,
     "metadata": {},
     "output_type": "execute_result"
    }
   ],
   "source": [
    "### shape similar to numpy\n",
    "series.shape"
   ]
  },
  {
   "cell_type": "code",
   "execution_count": 6,
   "id": "d240ae7d",
   "metadata": {},
   "outputs": [
    {
     "data": {
      "text/plain": [
       "dtype('float32')"
      ]
     },
     "execution_count": 6,
     "metadata": {},
     "output_type": "execute_result"
    }
   ],
   "source": [
    "### data-type similar to numpy\n",
    "series.dtype"
   ]
  },
  {
   "cell_type": "code",
   "execution_count": 7,
   "id": "4f5b3b0b",
   "metadata": {},
   "outputs": [
    {
     "data": {
      "text/plain": [
       "array([0.25, 0.5 , 0.75, 1.  ], dtype=float32)"
      ]
     },
     "execution_count": 7,
     "metadata": {},
     "output_type": "execute_result"
    }
   ],
   "source": [
    "### recover data values as numpy array, similar to dict.values()\n",
    "series.values"
   ]
  },
  {
   "cell_type": "code",
   "execution_count": 8,
   "id": "0ea0bc48",
   "metadata": {},
   "outputs": [
    {
     "data": {
      "text/plain": [
       "Index(['a', 'b', 'c', 'd'], dtype='object')"
      ]
     },
     "execution_count": 8,
     "metadata": {},
     "output_type": "execute_result"
    }
   ],
   "source": [
    "### recover index values/generator, similar to dict.keys()\n",
    "series.index"
   ]
  },
  {
   "cell_type": "code",
   "execution_count": 9,
   "id": "e420d29f",
   "metadata": {},
   "outputs": [
    {
     "data": {
      "text/plain": [
       "[('a', 0.25), ('b', 0.5), ('c', 0.75), ('d', 1.0)]"
      ]
     },
     "execution_count": 9,
     "metadata": {},
     "output_type": "execute_result"
    }
   ],
   "source": [
    "### get items-pair, similar to dict.items()\n",
    "list(series.items())"
   ]
  },
  {
   "cell_type": "code",
   "execution_count": null,
   "id": "aa9efbdd-e0d8-4ec0-8ed8-378386d5f4d1",
   "metadata": {},
   "outputs": [],
   "source": []
  },
  {
   "cell_type": "code",
   "execution_count": 10,
   "id": "a3711f63-c691-45c4-b97b-373ca55d3510",
   "metadata": {},
   "outputs": [
    {
     "data": {
      "text/plain": [
       "0    a\n",
       "1    b\n",
       "2    c\n",
       "3    a\n",
       "4    b\n",
       "5    c\n",
       "dtype: object"
      ]
     },
     "execution_count": 10,
     "metadata": {},
     "output_type": "execute_result"
    }
   ],
   "source": [
    "series_cat = pd.Series(list('abcabc'), dtype=\"str\")\n",
    "series_cat"
   ]
  },
  {
   "cell_type": "code",
   "execution_count": 11,
   "id": "492c5db8-b447-4288-9892-a103421fbf18",
   "metadata": {},
   "outputs": [
    {
     "data": {
      "text/plain": [
       "48"
      ]
     },
     "execution_count": 11,
     "metadata": {},
     "output_type": "execute_result"
    }
   ],
   "source": [
    "series_cat.nbytes"
   ]
  },
  {
   "cell_type": "code",
   "execution_count": 12,
   "id": "4e4859e3-4209-4491-ba69-4f0b78526c96",
   "metadata": {},
   "outputs": [
    {
     "data": {
      "text/plain": [
       "30"
      ]
     },
     "execution_count": 12,
     "metadata": {},
     "output_type": "execute_result"
    }
   ],
   "source": [
    "series_cat.astype('category').nbytes"
   ]
  },
  {
   "cell_type": "code",
   "execution_count": 13,
   "id": "b1a146be-8586-4702-bf7b-db0bb83d45e3",
   "metadata": {},
   "outputs": [
    {
     "data": {
      "text/plain": [
       "6"
      ]
     },
     "execution_count": 13,
     "metadata": {},
     "output_type": "execute_result"
    }
   ],
   "source": [
    "series_cat2 = pd.Series([0,1,2,0,1,2],dtype=np.uint8)\n",
    "series_cat2.nbytes"
   ]
  },
  {
   "cell_type": "markdown",
   "id": "fc312011",
   "metadata": {},
   "source": [
    "<a id=\"op\"></a>\n",
    "# operations\n",
    "[toc](#toc)\n",
    "\n",
    "- elem by elem"
   ]
  },
  {
   "cell_type": "code",
   "execution_count": 14,
   "id": "832ade7c",
   "metadata": {},
   "outputs": [
    {
     "data": {
      "text/plain": [
       "a    1.125\n",
       "b    1.250\n",
       "c    1.375\n",
       "d    1.500\n",
       "dtype: float32"
      ]
     },
     "execution_count": 14,
     "metadata": {},
     "output_type": "execute_result"
    }
   ],
   "source": [
    "0.5*series + 1"
   ]
  },
  {
   "cell_type": "code",
   "execution_count": 15,
   "id": "d4bf1e48",
   "metadata": {},
   "outputs": [
    {
     "data": {
      "text/plain": [
       "a     True\n",
       "b     True\n",
       "c    False\n",
       "d    False\n",
       "dtype: bool"
      ]
     },
     "execution_count": 15,
     "metadata": {},
     "output_type": "execute_result"
    }
   ],
   "source": [
    "series <= 0.5"
   ]
  },
  {
   "cell_type": "code",
   "execution_count": 16,
   "id": "9bfc1d89",
   "metadata": {},
   "outputs": [
    {
     "name": "stdout",
     "output_type": "stream",
     "text": [
      "a     NaN\n",
      "b     NaN\n",
      "c    0.75\n",
      "d    2.00\n",
      "e     NaN\n",
      "dtype: float64\n",
      "a    NaN\n",
      "b    NaN\n",
      "c    0.0\n",
      "d    1.0\n",
      "e    NaN\n",
      "dtype: float64\n",
      "a    NaN\n",
      "b    NaN\n",
      "c    inf\n",
      "d    1.0\n",
      "e    NaN\n",
      "dtype: float64\n"
     ]
    }
   ],
   "source": [
    "print(series+series2)\n",
    "print(series*series2)\n",
    "print(series/series2)"
   ]
  },
  {
   "cell_type": "code",
   "execution_count": 17,
   "id": "9629dda8",
   "metadata": {},
   "outputs": [
    {
     "name": "stdout",
     "output_type": "stream",
     "text": [
      "a    0.25\n",
      "b    0.50\n",
      "c    0.75\n",
      "d    2.00\n",
      "e    2.00\n",
      "dtype: float64\n",
      "a    0.25\n",
      "b    0.50\n",
      "c    0.00\n",
      "d    1.00\n",
      "e    2.00\n",
      "dtype: float64\n",
      "a    0.25\n",
      "b    0.50\n",
      "c     inf\n",
      "d    1.00\n",
      "e    0.50\n",
      "dtype: float64\n"
     ]
    }
   ],
   "source": [
    "print(series.add(other=series2,fill_value=0))\n",
    "print(series.multiply(other = series2, fill_value=1))\n",
    "print(series.divide(other= series2, fill_value = 1))"
   ]
  },
  {
   "cell_type": "code",
   "execution_count": null,
   "id": "20ae42d6",
   "metadata": {},
   "outputs": [],
   "source": []
  },
  {
   "cell_type": "markdown",
   "id": "23ab995c-6fed-48e5-979d-9b98662a5cfd",
   "metadata": {},
   "source": [
    "---\n",
    "## GO TO DATAFRAMES NOTEBOOK\n",
    "\n",
    "\n",
    "---"
   ]
  },
  {
   "cell_type": "markdown",
   "id": "57a68459",
   "metadata": {},
   "source": [
    "<a id=\"index\"></a>\n",
    "# indexing & co\n",
    "[toc](#toc)"
   ]
  },
  {
   "cell_type": "markdown",
   "id": "edcef9b9",
   "metadata": {},
   "source": [
    "## simple indexing"
   ]
  },
  {
   "cell_type": "code",
   "execution_count": 18,
   "id": "5da60f45",
   "metadata": {},
   "outputs": [
    {
     "name": "stdout",
     "output_type": "stream",
     "text": [
      "0.25\n"
     ]
    }
   ],
   "source": [
    "### exlicit indexing : like a dictionary\n",
    "print(series['a']) \n",
    "### implicit indexing : like an array/list\n",
    "# print(series[0]) ## no longer supported\n",
    "\n"
   ]
  },
  {
   "cell_type": "code",
   "execution_count": null,
   "id": "62348da6",
   "metadata": {},
   "outputs": [],
   "source": []
  },
  {
   "cell_type": "code",
   "execution_count": 19,
   "id": "e223a9a9",
   "metadata": {},
   "outputs": [
    {
     "name": "stdout",
     "output_type": "stream",
     "text": [
      "a    2.25\n",
      "b    0.50\n",
      "c    0.75\n",
      "d    1.00\n",
      "dtype: float32\n"
     ]
    }
   ],
   "source": [
    "### reassignment\n",
    "series['a'] = 2.25\n",
    "print(series)"
   ]
  },
  {
   "cell_type": "markdown",
   "id": "d91a9a49",
   "metadata": {},
   "source": [
    "## slicing"
   ]
  },
  {
   "cell_type": "code",
   "execution_count": 20,
   "id": "5ed8b68e",
   "metadata": {},
   "outputs": [
    {
     "data": {
      "text/plain": [
       "a    2.25\n",
       "b    0.50\n",
       "c    0.75\n",
       "dtype: float32"
      ]
     },
     "execution_count": 20,
     "metadata": {},
     "output_type": "execute_result"
    }
   ],
   "source": [
    "### explicit slicing: from 'a' to 'c' (included)\n",
    "series['a':'c'] "
   ]
  },
  {
   "cell_type": "code",
   "execution_count": 21,
   "id": "c856f76d",
   "metadata": {},
   "outputs": [
    {
     "data": {
      "text/plain": [
       "a    2.25\n",
       "b    0.50\n",
       "dtype: float32"
      ]
     },
     "execution_count": 21,
     "metadata": {},
     "output_type": "execute_result"
    }
   ],
   "source": [
    "### implicit slicing : from 0 to 2 (excluded)\n",
    "series[0:2] "
   ]
  },
  {
   "cell_type": "code",
   "execution_count": 22,
   "id": "a421fcc1",
   "metadata": {},
   "outputs": [
    {
     "data": {
      "text/plain": [
       "d    1.00\n",
       "c    0.75\n",
       "dtype: float32"
      ]
     },
     "execution_count": 22,
     "metadata": {},
     "output_type": "execute_result"
    }
   ],
   "source": [
    "### start,stop,step like native python: default values: 0,end,1\n",
    "series[None:1:-1] "
   ]
  },
  {
   "cell_type": "markdown",
   "id": "ca43fd1b",
   "metadata": {},
   "source": [
    "## at,loc and iat,iloc: non-ambiguous indexing"
   ]
  },
  {
   "cell_type": "code",
   "execution_count": 23,
   "id": "dad314ac",
   "metadata": {},
   "outputs": [
    {
     "data": {
      "text/plain": [
       "np.float32(2.25)"
      ]
     },
     "metadata": {},
     "output_type": "display_data"
    },
    {
     "data": {
      "text/plain": [
       "np.float32(2.25)"
      ]
     },
     "execution_count": 23,
     "metadata": {},
     "output_type": "execute_result"
    }
   ],
   "source": [
    "### explicit localisation (+-= where)\n",
    "display(series.loc['a']) \n",
    "series.at['a'] ## faster, but one cell only"
   ]
  },
  {
   "cell_type": "code",
   "execution_count": 24,
   "id": "b4ada66d",
   "metadata": {},
   "outputs": [
    {
     "data": {
      "text/plain": [
       "np.float32(2.25)"
      ]
     },
     "metadata": {},
     "output_type": "display_data"
    },
    {
     "data": {
      "text/plain": [
       "np.float32(2.25)"
      ]
     },
     "execution_count": 24,
     "metadata": {},
     "output_type": "execute_result"
    }
   ],
   "source": [
    "### implicit, intiger-only localisation \n",
    "display(series.iloc[0])\n",
    "series.iat[0]"
   ]
  },
  {
   "cell_type": "code",
   "execution_count": 25,
   "id": "30aea353",
   "metadata": {},
   "outputs": [
    {
     "name": "stdout",
     "output_type": "stream",
     "text": [
      "a    2.25\n",
      "b    0.50\n",
      "c    0.75\n",
      "dtype: float32\n",
      "a    2.25\n",
      "b    0.50\n",
      "dtype: float32\n"
     ]
    }
   ],
   "source": [
    "### slicing\n",
    "print(series.loc['a':'c'])\n",
    "print(series.iloc[:2])"
   ]
  },
  {
   "cell_type": "markdown",
   "id": "35b1319b",
   "metadata": {},
   "source": [
    "## boolean indexing"
   ]
  },
  {
   "cell_type": "code",
   "execution_count": 26,
   "id": "0fdbfd35",
   "metadata": {},
   "outputs": [
    {
     "name": "stdout",
     "output_type": "stream",
     "text": [
      "a    2.25\n",
      "b    0.50\n",
      "c    0.75\n",
      "d    1.00\n",
      "dtype: float32\n",
      "--------------------------------------------------\n",
      "a    False\n",
      "b     True\n",
      "c    False\n",
      "d    False\n",
      "dtype: bool\n",
      "--------------------------------------------------\n",
      "b    0.5\n",
      "dtype: float32\n"
     ]
    }
   ],
   "source": [
    "print(series)\n",
    "print('-'*50)\n",
    "print(series<=0.5)\n",
    "print('-'*50)\n",
    "print(series.loc[series<=0.5])"
   ]
  },
  {
   "cell_type": "code",
   "execution_count": 27,
   "id": "e0ba8c5d",
   "metadata": {},
   "outputs": [
    {
     "data": {
      "text/plain": [
       "a    2.25\n",
       "c    0.75\n",
       "d    1.00\n",
       "dtype: float32"
      ]
     },
     "execution_count": 27,
     "metadata": {},
     "output_type": "execute_result"
    }
   ],
   "source": [
    "'''\n",
    "SELECT index, values  \n",
    "FROM series  \n",
    "WHERE values>0.5  \n",
    "'''\n",
    "series.loc[series>0.5]"
   ]
  },
  {
   "cell_type": "code",
   "execution_count": 28,
   "id": "1397f6dd",
   "metadata": {},
   "outputs": [
    {
     "name": "stdout",
     "output_type": "stream",
     "text": [
      "a    2.25\n",
      "c    0.75\n",
      "d    1.00\n",
      "dtype: float32\n",
      "----------\n",
      "<class 'pandas.core.series.Series'>\n",
      "----------\n",
      "----------\n",
      "[2.25 0.75 1.  ]\n",
      "----------\n",
      "<class 'numpy.ndarray'>\n"
     ]
    }
   ],
   "source": [
    "print(series.loc[series>0.5])\n",
    "print('-'*10)\n",
    "print(type(series.loc[series>0.5]))\n",
    "\n",
    "print('-'*10)\n",
    "print('-'*10)\n",
    "\n",
    "print(series.loc[series>0.5].values)\n",
    "print('-'*10)\n",
    "print(type(series.loc[series>0.5].values))\n"
   ]
  },
  {
   "cell_type": "code",
   "execution_count": 29,
   "id": "ae512933",
   "metadata": {},
   "outputs": [
    {
     "data": {
      "text/plain": [
       "c    0\n",
       "d    1\n",
       "e    2\n",
       "dtype: int64"
      ]
     },
     "metadata": {},
     "output_type": "display_data"
    },
    {
     "name": "stdout",
     "output_type": "stream",
     "text": [
      "--------------------------------------------------\n",
      "Unalignable boolean Series provided as indexer (index of the boolean Series and of the indexed object do not match).\n"
     ]
    }
   ],
   "source": [
    "display(series2)\n",
    "print('-'*50)\n",
    "try:\n",
    "    series.loc[series2>0]\n",
    "except Exception as err:\n",
    "    print(err)"
   ]
  },
  {
   "cell_type": "code",
   "execution_count": 30,
   "id": "adcedf03",
   "metadata": {},
   "outputs": [
    {
     "name": "stdout",
     "output_type": "stream",
     "text": [
      "b    0.5\n",
      "dtype: float32\n",
      "b    0.5\n",
      "dtype: float32\n",
      "--------------------------------------------------\n",
      "b    0.5\n",
      "dtype: float32\n"
     ]
    }
   ],
   "source": [
    "cond = series <= 0.5\n",
    "\n",
    "\n",
    "print(series[cond]) ## not recommended\n",
    "\n",
    "print(series.loc[cond])   ## recommended\n",
    "#print(series.iloc[cond]) ## doesn't work: iloc needs integers   \n",
    "                          ## because cond has 'a','b',... as index\n",
    "print('-'*50)\n",
    "print(series.iloc[cond.values]) ## not recommended"
   ]
  },
  {
   "cell_type": "code",
   "execution_count": 31,
   "id": "28dd526a",
   "metadata": {},
   "outputs": [
    {
     "data": {
      "text/plain": [
       "array([False,  True, False, False])"
      ]
     },
     "metadata": {},
     "output_type": "display_data"
    },
    {
     "data": {
      "text/plain": [
       "Index(['a', 'b', 'c', 'd'], dtype='object')"
      ]
     },
     "metadata": {},
     "output_type": "display_data"
    }
   ],
   "source": [
    "display(cond.values) # values of \"cond\"-series : numpy array\n",
    "display(cond.index)  # indices of \"cond\"-series : like a numpy array"
   ]
  },
  {
   "cell_type": "markdown",
   "id": "ab7b2fbf",
   "metadata": {},
   "source": [
    "## head & tail"
   ]
  },
  {
   "cell_type": "code",
   "execution_count": 32,
   "id": "f4485788",
   "metadata": {},
   "outputs": [
    {
     "data": {
      "text/plain": [
       "a    2.25\n",
       "b    0.50\n",
       "c    0.75\n",
       "dtype: float32"
      ]
     },
     "execution_count": 32,
     "metadata": {},
     "output_type": "execute_result"
    }
   ],
   "source": [
    "### top 3\n",
    "series.head(3) ## default 5 "
   ]
  },
  {
   "cell_type": "code",
   "execution_count": 33,
   "id": "bebd0fc5",
   "metadata": {},
   "outputs": [
    {
     "data": {
      "text/plain": [
       "c    0.75\n",
       "d    1.00\n",
       "dtype: float32"
      ]
     },
     "execution_count": 33,
     "metadata": {},
     "output_type": "execute_result"
    }
   ],
   "source": [
    "series.tail(2)"
   ]
  },
  {
   "cell_type": "markdown",
   "id": "d606bd1a",
   "metadata": {},
   "source": [
    "<a id=\"order\"></a>\n",
    "# Order By: sort\n",
    "[toc](#toc)"
   ]
  },
  {
   "cell_type": "code",
   "execution_count": 34,
   "id": "fab4030a",
   "metadata": {},
   "outputs": [
    {
     "data": {
      "text/plain": [
       "a    2.25\n",
       "d    1.00\n",
       "c    0.75\n",
       "b    0.50\n",
       "dtype: float32"
      ]
     },
     "execution_count": 34,
     "metadata": {},
     "output_type": "execute_result"
    }
   ],
   "source": [
    "series2 = series.sort_values(ascending=False)\n",
    "series2"
   ]
  },
  {
   "cell_type": "code",
   "execution_count": 35,
   "id": "c8823151",
   "metadata": {},
   "outputs": [
    {
     "name": "stdout",
     "output_type": "stream",
     "text": [
      "a    2.25\n",
      "d    1.00\n",
      "dtype: float32\n",
      "--------------------------------------------------\n",
      "a    2.25\n",
      "d    1.00\n",
      "c    0.75\n",
      "b    0.50\n",
      "dtype: float32\n",
      "--------------------------------------------------\n",
      "a    2.25\n",
      "b    0.50\n",
      "dtype: float32\n"
     ]
    }
   ],
   "source": [
    "### ordering changed therfore slicing result changed too\n",
    "print(series2.iloc[:2])\n",
    "print('-'*50)\n",
    "print(series2.loc['a':'b']) ## from 'a' to 'b'\n",
    "print('-'*50)\n",
    "print(series2.loc[['a','b']]) ## 'a' and 'b'"
   ]
  },
  {
   "cell_type": "code",
   "execution_count": null,
   "id": "4cda7be4",
   "metadata": {},
   "outputs": [],
   "source": []
  },
  {
   "cell_type": "code",
   "execution_count": null,
   "id": "dbb40937",
   "metadata": {},
   "outputs": [],
   "source": []
  },
  {
   "cell_type": "code",
   "execution_count": 36,
   "id": "bd631bed",
   "metadata": {},
   "outputs": [
    {
     "name": "stdout",
     "output_type": "stream",
     "text": [
      "a    2.25\n",
      "b    0.50\n",
      "c    0.75\n",
      "d    1.00\n",
      "a    2.25\n",
      "b    0.50\n",
      "dtype: float32\n"
     ]
    }
   ],
   "source": [
    "series3 = series[:-2].copy()\n",
    "### similar to np.concatenate\n",
    "series4 = pd.concat([series,series3]) \n",
    "print(series4) ## index from original series are kept"
   ]
  },
  {
   "cell_type": "code",
   "execution_count": 37,
   "id": "44899439",
   "metadata": {},
   "outputs": [
    {
     "name": "stdout",
     "output_type": "stream",
     "text": [
      "0    2.25\n",
      "1    0.50\n",
      "2    0.75\n",
      "3    1.00\n",
      "4    2.25\n",
      "5    0.50\n",
      "dtype: float32\n"
     ]
    }
   ],
   "source": [
    "### generate new indices\n",
    "series5 = pd.concat([series,series3], ignore_index=True)\n",
    "print(series5)"
   ]
  },
  {
   "cell_type": "code",
   "execution_count": null,
   "id": "aed8edc5",
   "metadata": {},
   "outputs": [],
   "source": []
  },
  {
   "cell_type": "markdown",
   "id": "b1d64db4",
   "metadata": {},
   "source": [
    "<a id=\"agg\"></a>\n",
    "# Aggregations\n",
    "[toc](#toc)\n"
   ]
  },
  {
   "cell_type": "code",
   "execution_count": 38,
   "id": "47498c19",
   "metadata": {},
   "outputs": [
    {
     "name": "stdout",
     "output_type": "stream",
     "text": [
      "a    2.25\n",
      "b    0.50\n",
      "c    0.75\n",
      "d    1.00\n",
      "dtype: float32\n"
     ]
    },
    {
     "data": {
      "text/plain": [
       "np.float32(4.5)"
      ]
     },
     "execution_count": 38,
     "metadata": {},
     "output_type": "execute_result"
    }
   ],
   "source": [
    "print(series)\n",
    "series.sum() ## sum, mean, std, var, median, mode, quantile"
   ]
  },
  {
   "cell_type": "code",
   "execution_count": 39,
   "id": "00515f0c",
   "metadata": {},
   "outputs": [
    {
     "name": "stdout",
     "output_type": "stream",
     "text": [
      "4.5\n",
      "4.5\n"
     ]
    }
   ],
   "source": [
    "### compatible with numpy functions\n",
    "print(np.sum(series)) \n",
    "\n",
    "### native functions from python are not recommended : not optimized for numpy/pandas array \n",
    "print(sum(series))"
   ]
  },
  {
   "cell_type": "code",
   "execution_count": 40,
   "id": "3847bf71",
   "metadata": {},
   "outputs": [
    {
     "data": {
      "text/plain": [
       "np.float64(0.875)"
      ]
     },
     "execution_count": 40,
     "metadata": {},
     "output_type": "execute_result"
    }
   ],
   "source": [
    "series.quantile(0.5) ## quantile(0.5) = 50% percentile = Q2 = median"
   ]
  },
  {
   "cell_type": "code",
   "execution_count": 41,
   "id": "6e5b7f5c-db52-43bd-b4c4-0a42add5c79a",
   "metadata": {},
   "outputs": [
    {
     "name": "stdout",
     "output_type": "stream",
     "text": [
      "a    2.25\n",
      "b    0.50\n",
      "c    0.75\n",
      "d    1.00\n",
      "a    2.25\n",
      "b    0.50\n",
      "dtype: float32\n"
     ]
    }
   ],
   "source": [
    "series3 = series[:-2].copy()\n",
    "### similar to np.concatenate\n",
    "series4 = pd.concat([series,series3]) \n",
    "print(series4) ## index from original series are kept"
   ]
  },
  {
   "cell_type": "code",
   "execution_count": 42,
   "id": "3926a75e-d354-47ea-a636-0934b25f60be",
   "metadata": {},
   "outputs": [
    {
     "name": "stdout",
     "output_type": "stream",
     "text": [
      "0    2.25\n",
      "1    0.50\n",
      "2    0.75\n",
      "3    1.00\n",
      "4    2.25\n",
      "5    0.50\n",
      "dtype: float32\n"
     ]
    }
   ],
   "source": [
    "### generate new indices\n",
    "series5 = pd.concat([series,series3], ignore_index=True)\n",
    "print(series5)"
   ]
  },
  {
   "cell_type": "markdown",
   "id": "6bf610b6",
   "metadata": {},
   "source": [
    "<a id=\"func\"></a>\n",
    "# Other functionality\n",
    "[toc](#toc)"
   ]
  },
  {
   "cell_type": "code",
   "execution_count": 43,
   "id": "983cbbc0",
   "metadata": {},
   "outputs": [
    {
     "name": "stdout",
     "output_type": "stream",
     "text": [
      "0    1.0\n",
      "1    2.0\n",
      "2    NaN\n",
      "dtype: float64\n",
      "--------------------------------------------------\n",
      "0    1.0\n",
      "1    2.0\n",
      "2    0.0\n",
      "dtype: float64\n",
      "0    1.0\n",
      "1    2.0\n",
      "2    NaN\n",
      "dtype: float64\n",
      "--------------------------------------------------\n",
      "0      1.0\n",
      "1      2.0\n",
      "2    255.0\n",
      "dtype: float64\n"
     ]
    }
   ],
   "source": [
    "null_series = pd.Series(data= [1,2,np.nan])\n",
    "print(null_series)\n",
    "null_series.isnull()\n",
    "print('-'*50)\n",
    "\n",
    "print(null_series.fillna(0))\n",
    "\n",
    "print(null_series)\n",
    "print('-'*50)\n",
    "\n",
    "null_series.fillna(255,inplace=True)\n",
    "print(null_series)\n",
    "#null_series1 = null_series.fillna(321)"
   ]
  },
  {
   "cell_type": "markdown",
   "id": "5f7d126b",
   "metadata": {},
   "source": [
    "## string methods\n",
    "\n",
    "https://pandas.pydata.org/docs/user_guide/text.html#string-methods\n",
    "\n",
    "\n"
   ]
  },
  {
   "cell_type": "code",
   "execution_count": 44,
   "id": "55c370da",
   "metadata": {},
   "outputs": [
    {
     "data": {
      "text/plain": [
       "c    A-A\n",
       "a    -a-\n",
       "b    aAa\n",
       "b    A-A\n",
       "a    aAa\n",
       "a    A-A\n",
       "dtype: object"
      ]
     },
     "execution_count": 44,
     "metadata": {},
     "output_type": "execute_result"
    }
   ],
   "source": [
    "series_str = pd.Series(data= np.random.choice(['aAa','A-A','-a-'],size=(6)),\n",
    "                   index= np.random.choice(list('abc'),size=(6))\n",
    "                  )\n",
    "\n",
    "\n",
    "series_str\n"
   ]
  },
  {
   "cell_type": "code",
   "execution_count": 45,
   "id": "d4290a8d",
   "metadata": {},
   "outputs": [
    {
     "data": {
      "text/plain": [
       "c     True\n",
       "a     True\n",
       "b    False\n",
       "b     True\n",
       "a    False\n",
       "a     True\n",
       "dtype: bool"
      ]
     },
     "execution_count": 45,
     "metadata": {},
     "output_type": "execute_result"
    }
   ],
   "source": [
    "series_str.str.contains(pat='-',regex=True)"
   ]
  },
  {
   "cell_type": "code",
   "execution_count": 46,
   "id": "d3f86161",
   "metadata": {},
   "outputs": [
    {
     "data": {
      "text/plain": [
       "c     [A, A]\n",
       "a    [, a, ]\n",
       "b      [aAa]\n",
       "b     [A, A]\n",
       "a      [aAa]\n",
       "a     [A, A]\n",
       "dtype: object"
      ]
     },
     "execution_count": 46,
     "metadata": {},
     "output_type": "execute_result"
    }
   ],
   "source": [
    "splitted = series_str.str.split(pat='-',regex=True)\n",
    "splitted"
   ]
  },
  {
   "cell_type": "code",
   "execution_count": 47,
   "id": "137fb8c0",
   "metadata": {},
   "outputs": [
    {
     "data": {
      "text/plain": [
       "c    a-a\n",
       "a    -a-\n",
       "b    aaa\n",
       "b    a-a\n",
       "a    aaa\n",
       "a    a-a\n",
       "dtype: object"
      ]
     },
     "execution_count": 47,
     "metadata": {},
     "output_type": "execute_result"
    }
   ],
   "source": [
    "series_str.str.lower()"
   ]
  },
  {
   "cell_type": "code",
   "execution_count": 48,
   "id": "06a78a66",
   "metadata": {},
   "outputs": [
    {
     "name": "stdout",
     "output_type": "stream",
     "text": [
      "['A A' ' a ' 'aAa']\n"
     ]
    },
    {
     "name": "stderr",
     "output_type": "stream",
     "text": [
      "<>:1: SyntaxWarning: invalid escape sequence '\\-'\n",
      "<>:1: SyntaxWarning: invalid escape sequence '\\-'\n",
      "C:\\Users\\stgadmin\\AppData\\Local\\Temp\\ipykernel_7140\\617018811.py:1: SyntaxWarning: invalid escape sequence '\\-'\n",
      "  series_str_2 = series_str.str.replace(pat='\\-',repl=' ', regex=True)\n"
     ]
    },
    {
     "data": {
      "text/plain": [
       "c    A A\n",
       "a     a \n",
       "b    aAa\n",
       "b    A A\n",
       "a    aAa\n",
       "a    A A\n",
       "dtype: object"
      ]
     },
     "execution_count": 48,
     "metadata": {},
     "output_type": "execute_result"
    }
   ],
   "source": [
    "series_str_2 = series_str.str.replace(pat='\\-',repl=' ', regex=True)\n",
    "print(series_str_2.unique())\n",
    "series_str_2\n"
   ]
  },
  {
   "cell_type": "code",
   "execution_count": 49,
   "id": "7cdf7ac2",
   "metadata": {},
   "outputs": [
    {
     "name": "stdout",
     "output_type": "stream",
     "text": [
      "['A A' 'a' 'aAa']\n"
     ]
    },
    {
     "data": {
      "text/plain": [
       "c    A A\n",
       "a      a\n",
       "b    aAa\n",
       "b    A A\n",
       "a    aAa\n",
       "a    A A\n",
       "dtype: object"
      ]
     },
     "execution_count": 49,
     "metadata": {},
     "output_type": "execute_result"
    }
   ],
   "source": [
    "print(series_str_2.str.strip().unique())\n",
    "series_str_2.str.strip()"
   ]
  },
  {
   "cell_type": "markdown",
   "id": "5248f4e3",
   "metadata": {},
   "source": [
    "## dates/time"
   ]
  },
  {
   "cell_type": "code",
   "execution_count": 50,
   "id": "9a956ec9",
   "metadata": {},
   "outputs": [
    {
     "data": {
      "text/plain": [
       "Timestamp('2025-07-18 15:22:02.812633')"
      ]
     },
     "execution_count": 50,
     "metadata": {},
     "output_type": "execute_result"
    }
   ],
   "source": [
    "pd.Timestamp.today()"
   ]
  },
  {
   "cell_type": "code",
   "execution_count": 51,
   "id": "fa710ba0",
   "metadata": {},
   "outputs": [
    {
     "data": {
      "text/plain": [
       "DatetimeIndex(['2023-01-01', '2023-01-02', '2023-01-03', '2023-01-04',\n",
       "               '2023-01-05', '2023-01-06', '2023-01-07', '2023-01-08',\n",
       "               '2023-01-09', '2023-01-10',\n",
       "               ...\n",
       "               '2025-07-09', '2025-07-10', '2025-07-11', '2025-07-12',\n",
       "               '2025-07-13', '2025-07-14', '2025-07-15', '2025-07-16',\n",
       "               '2025-07-17', '2025-07-18'],\n",
       "              dtype='datetime64[ns]', length=930, freq='D')"
      ]
     },
     "execution_count": 51,
     "metadata": {},
     "output_type": "execute_result"
    }
   ],
   "source": [
    "pd.date_range('2023-01-01',pd.Timestamp.today())"
   ]
  },
  {
   "cell_type": "code",
   "execution_count": 52,
   "id": "a71894c6",
   "metadata": {},
   "outputs": [
    {
     "data": {
      "text/plain": [
       "0     2023-01-01\n",
       "1     2023-01-02\n",
       "2     2023-01-03\n",
       "3     2023-01-04\n",
       "4     2023-01-05\n",
       "         ...    \n",
       "925   2025-07-14\n",
       "926   2025-07-15\n",
       "927   2025-07-16\n",
       "928   2025-07-17\n",
       "929   2025-07-18\n",
       "Length: 930, dtype: datetime64[ns]"
      ]
     },
     "execution_count": 52,
     "metadata": {},
     "output_type": "execute_result"
    }
   ],
   "source": [
    "dates = pd.Series(pd.date_range('2023-01-01',pd.Timestamp.today()))\n",
    "dates"
   ]
  },
  {
   "cell_type": "code",
   "execution_count": 53,
   "id": "08d825c9",
   "metadata": {},
   "outputs": [
    {
     "data": {
      "text/plain": [
       "0    January\n",
       "1    January\n",
       "2    January\n",
       "3    January\n",
       "4    January\n",
       "dtype: object"
      ]
     },
     "execution_count": 53,
     "metadata": {},
     "output_type": "execute_result"
    }
   ],
   "source": [
    "months = dates.dt.month_name()\n",
    "months.head()"
   ]
  },
  {
   "cell_type": "code",
   "execution_count": 54,
   "id": "4a25726f",
   "metadata": {},
   "outputs": [
    {
     "data": {
      "text/plain": [
       "0    [2023]**(01)--{01}\n",
       "1    [2023]**(01)--{02}\n",
       "2    [2023]**(01)--{03}\n",
       "dtype: object"
      ]
     },
     "metadata": {},
     "output_type": "display_data"
    },
    {
     "data": {
      "text/plain": [
       "0   2023-01-01\n",
       "1   2023-01-02\n",
       "2   2023-01-03\n",
       "dtype: datetime64[ns]"
      ]
     },
     "execution_count": 54,
     "metadata": {},
     "output_type": "execute_result"
    }
   ],
   "source": [
    "### format to text\n",
    "formatted_dates = dates.dt.strftime('[%Y]**(%m)--{%d}')\n",
    "display(formatted_dates.head(3))\n",
    "\n",
    "### back\n",
    "pd.to_datetime(formatted_dates,\n",
    "               format='[%Y]**(%m)--{%d}').head(3) ## transform like '%Y-%m-%d' but with dtype = datetime "
   ]
  },
  {
   "cell_type": "markdown",
   "id": "9ed36a1d-761b-4c1b-81fa-c6e88e4cabd0",
   "metadata": {},
   "source": [
    "<a id=\"concat\"></a>\n",
    "# concatenation\n",
    "[toc](#toc)"
   ]
  },
  {
   "cell_type": "code",
   "execution_count": 55,
   "id": "b775789e-db8e-419b-b6f4-2a3876e77a85",
   "metadata": {},
   "outputs": [
    {
     "data": {
      "text/plain": [
       "0    a\n",
       "1    b\n",
       "2    c\n",
       "3    a\n",
       "4    b\n",
       "5    c\n",
       "dtype: object"
      ]
     },
     "metadata": {},
     "output_type": "display_data"
    },
    {
     "data": {
      "text/plain": [
       "a    2.25\n",
       "b    0.50\n",
       "c    0.75\n",
       "d    1.00\n",
       "dtype: float32"
      ]
     },
     "metadata": {},
     "output_type": "display_data"
    }
   ],
   "source": [
    "display(series_cat)\n",
    "display(series)"
   ]
  },
  {
   "cell_type": "code",
   "execution_count": 56,
   "id": "ff40a846-648d-434c-8596-962109f7ebdf",
   "metadata": {},
   "outputs": [
    {
     "data": {
      "text/plain": [
       "0       a\n",
       "1       b\n",
       "2       c\n",
       "3       a\n",
       "4       b\n",
       "5       c\n",
       "a    2.25\n",
       "b     0.5\n",
       "c    0.75\n",
       "d     1.0\n",
       "dtype: object"
      ]
     },
     "execution_count": 56,
     "metadata": {},
     "output_type": "execute_result"
    }
   ],
   "source": [
    "pd.concat([series_cat,series])"
   ]
  },
  {
   "cell_type": "markdown",
   "id": "10b36cf1",
   "metadata": {},
   "source": [
    "<a id=\"map\"></a>\n",
    "# MAP/APPLY\n",
    "[toc](#toc)\n"
   ]
  },
  {
   "cell_type": "code",
   "execution_count": 57,
   "id": "aa966f5f",
   "metadata": {},
   "outputs": [
    {
     "data": {
      "text/plain": [
       "a    2.25\n",
       "b    0.50\n",
       "c    0.75\n",
       "d    1.00\n",
       "dtype: float32"
      ]
     },
     "metadata": {},
     "output_type": "display_data"
    },
    {
     "data": {
      "text/plain": [
       "a    1\n",
       "b    0\n",
       "c    1\n",
       "d    1\n",
       "dtype: int64"
      ]
     },
     "execution_count": 57,
     "metadata": {},
     "output_type": "execute_result"
    }
   ],
   "source": [
    "def my_funct(x,val=0.5):\n",
    "    \n",
    "    if x < val:\n",
    "        return -1\n",
    "    elif x > val:\n",
    "        return +1\n",
    "    else:\n",
    "        return 0\n",
    "\n",
    "display(series)\n",
    "series.map(my_funct) "
   ]
  },
  {
   "cell_type": "code",
   "execution_count": 58,
   "id": "4e216f5e",
   "metadata": {},
   "outputs": [
    {
     "data": {
      "text/plain": [
       "a    1\n",
       "b   -1\n",
       "c    0\n",
       "d    1\n",
       "dtype: int64"
      ]
     },
     "execution_count": 58,
     "metadata": {},
     "output_type": "execute_result"
    }
   ],
   "source": [
    "series.apply(my_funct, val=0.75)"
   ]
  },
  {
   "cell_type": "markdown",
   "id": "320c7342-36a6-434e-8548-edc08fe315bb",
   "metadata": {},
   "source": [
    "### rewrite your problem to prevent use of apply/map"
   ]
  },
  {
   "cell_type": "code",
   "execution_count": 59,
   "id": "1998e991",
   "metadata": {},
   "outputs": [
    {
     "data": {
      "text/plain": [
       "a    1\n",
       "b   -1\n",
       "c    0\n",
       "d    1\n",
       "dtype: int64"
      ]
     },
     "execution_count": 59,
     "metadata": {},
     "output_type": "execute_result"
    }
   ],
   "source": [
    "### vectorisation : faster alernative: recommended\n",
    "### require to think the problem differently than \"for each line\"\n",
    "def my_funct_2(series, val=0.5):\n",
    "    cond1 = series<val\n",
    "    cond2 = series>val\n",
    "    return -1*cond1 + cond2\n",
    "\n",
    "my_funct_2(series,val=0.75)"
   ]
  },
  {
   "cell_type": "markdown",
   "id": "d49f778e-c161-467c-9ba5-8836896673a1",
   "metadata": {},
   "source": [
    "### benchmarks"
   ]
  },
  {
   "cell_type": "code",
   "execution_count": 60,
   "id": "28df9360-121e-470d-9901-ab031cadd596",
   "metadata": {},
   "outputs": [],
   "source": [
    "series_rdm = pd.Series(np.random.randint(0,10,1_000_000))"
   ]
  },
  {
   "cell_type": "code",
   "execution_count": 61,
   "id": "2810f109-1dd5-490d-94ba-c149d90cb009",
   "metadata": {},
   "outputs": [
    {
     "data": {
      "text/plain": [
       "0         4\n",
       "1         5\n",
       "2         6\n",
       "3         5\n",
       "4         3\n",
       "         ..\n",
       "999995    0\n",
       "999996    0\n",
       "999997    1\n",
       "999998    3\n",
       "999999    3\n",
       "Length: 1000000, dtype: int32"
      ]
     },
     "execution_count": 61,
     "metadata": {},
     "output_type": "execute_result"
    }
   ],
   "source": [
    "series_rdm"
   ]
  },
  {
   "cell_type": "code",
   "execution_count": 62,
   "id": "9dd3ff86-9af1-46ae-bcb5-37c71c23ea97",
   "metadata": {},
   "outputs": [
    {
     "name": "stdout",
     "output_type": "stream",
     "text": [
      "942 ms ± 7.29 ms per loop (mean ± std. dev. of 7 runs, 1 loop each)\n"
     ]
    }
   ],
   "source": [
    "%timeit series_rdm.apply(my_funct, val=5)"
   ]
  },
  {
   "cell_type": "code",
   "execution_count": 63,
   "id": "9ab2ba32-ef08-4d35-aeb1-ffd0bccbb2dc",
   "metadata": {},
   "outputs": [
    {
     "name": "stdout",
     "output_type": "stream",
     "text": [
      "9.42 ms ± 77.3 μs per loop (mean ± std. dev. of 7 runs, 100 loops each)\n"
     ]
    }
   ],
   "source": [
    "%timeit my_funct_2(series_rdm,val=5)"
   ]
  },
  {
   "cell_type": "code",
   "execution_count": null,
   "id": "c8ac4dab-6315-40c1-a1c3-c4b2ac0549c7",
   "metadata": {},
   "outputs": [],
   "source": []
  }
 ],
 "metadata": {
  "kernelspec": {
   "display_name": "data_engineer",
   "language": "python",
   "name": "python3"
  },
  "language_info": {
   "codemirror_mode": {
    "name": "ipython",
    "version": 3
   },
   "file_extension": ".py",
   "mimetype": "text/x-python",
   "name": "python",
   "nbconvert_exporter": "python",
   "pygments_lexer": "ipython3",
   "version": "3.12.11"
  }
 },
 "nbformat": 4,
 "nbformat_minor": 5
}
